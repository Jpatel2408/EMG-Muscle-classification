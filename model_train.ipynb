{
 "cells": [
  {
   "cell_type": "code",
   "execution_count": 2,
   "metadata": {},
   "outputs": [],
   "source": [
    "import pandas as pd\n",
    "from sklearn.preprocessing import StandardScaler, LabelEncoder\n",
    "from sklearn.model_selection import train_test_split\n",
    "from sklearn.ensemble import RandomForestClassifier\n",
    "from sklearn.svm import SVC\n",
    "from sklearn.metrics import accuracy_score, classification_report, confusion_matrix\n",
    "import matplotlib.pyplot as plt\n",
    "import seaborn as sns"
   ]
  },
  {
   "cell_type": "code",
   "execution_count": 3,
   "metadata": {},
   "outputs": [
    {
     "data": {
      "text/html": [
       "<div>\n",
       "<style scoped>\n",
       "    .dataframe tbody tr th:only-of-type {\n",
       "        vertical-align: middle;\n",
       "    }\n",
       "\n",
       "    .dataframe tbody tr th {\n",
       "        vertical-align: top;\n",
       "    }\n",
       "\n",
       "    .dataframe thead th {\n",
       "        text-align: right;\n",
       "    }\n",
       "</style>\n",
       "<table border=\"1\" class=\"dataframe\">\n",
       "  <thead>\n",
       "    <tr style=\"text-align: right;\">\n",
       "      <th></th>\n",
       "      <th>rms</th>\n",
       "      <th>mav</th>\n",
       "      <th>zc</th>\n",
       "      <th>ssc</th>\n",
       "      <th>wavelength</th>\n",
       "      <th>participant</th>\n",
       "      <th>muscle_group</th>\n",
       "    </tr>\n",
       "  </thead>\n",
       "  <tbody>\n",
       "    <tr>\n",
       "      <th>0</th>\n",
       "      <td>504.424695</td>\n",
       "      <td>248.465357</td>\n",
       "      <td>26904</td>\n",
       "      <td>44941</td>\n",
       "      <td>1.582249e+07</td>\n",
       "      <td>subject 1</td>\n",
       "      <td>biceps-isom</td>\n",
       "    </tr>\n",
       "    <tr>\n",
       "      <th>1</th>\n",
       "      <td>1290.132435</td>\n",
       "      <td>489.273669</td>\n",
       "      <td>25743</td>\n",
       "      <td>45470</td>\n",
       "      <td>2.881425e+07</td>\n",
       "      <td>subject 1</td>\n",
       "      <td>biceps-isot</td>\n",
       "    </tr>\n",
       "    <tr>\n",
       "      <th>2</th>\n",
       "      <td>1402.743278</td>\n",
       "      <td>582.060388</td>\n",
       "      <td>24883</td>\n",
       "      <td>42973</td>\n",
       "      <td>4.215697e+07</td>\n",
       "      <td>subject 1</td>\n",
       "      <td>triceps-isot</td>\n",
       "    </tr>\n",
       "    <tr>\n",
       "      <th>3</th>\n",
       "      <td>1139.196350</td>\n",
       "      <td>511.531727</td>\n",
       "      <td>25936</td>\n",
       "      <td>45916</td>\n",
       "      <td>4.689074e+07</td>\n",
       "      <td>subject 1</td>\n",
       "      <td>triceps-isom</td>\n",
       "    </tr>\n",
       "    <tr>\n",
       "      <th>4</th>\n",
       "      <td>1285.079960</td>\n",
       "      <td>575.962833</td>\n",
       "      <td>32915</td>\n",
       "      <td>50139</td>\n",
       "      <td>6.202426e+07</td>\n",
       "      <td>subject 1</td>\n",
       "      <td>Gastrocnemius-Medialis-isom</td>\n",
       "    </tr>\n",
       "  </tbody>\n",
       "</table>\n",
       "</div>"
      ],
      "text/plain": [
       "           rms         mav     zc    ssc    wavelength participant  \\\n",
       "0   504.424695  248.465357  26904  44941  1.582249e+07   subject 1   \n",
       "1  1290.132435  489.273669  25743  45470  2.881425e+07   subject 1   \n",
       "2  1402.743278  582.060388  24883  42973  4.215697e+07   subject 1   \n",
       "3  1139.196350  511.531727  25936  45916  4.689074e+07   subject 1   \n",
       "4  1285.079960  575.962833  32915  50139  6.202426e+07   subject 1   \n",
       "\n",
       "                  muscle_group  \n",
       "0                  biceps-isom  \n",
       "1                  biceps-isot  \n",
       "2                 triceps-isot  \n",
       "3                 triceps-isom  \n",
       "4  Gastrocnemius-Medialis-isom  "
      ]
     },
     "execution_count": 3,
     "metadata": {},
     "output_type": "execute_result"
    }
   ],
   "source": [
    "# Load the CSV file\n",
    "df = pd.read_csv('processed_emg_data.csv')\n",
    "df.head(5)"
   ]
  },
  {
   "cell_type": "code",
   "execution_count": 4,
   "metadata": {},
   "outputs": [],
   "source": [
    "# Preprocess the data\n",
    "scaler = StandardScaler()\n",
    "X = scaler.fit_transform(df[['rms', 'mav', 'zc', 'ssc', 'wavelength']])\n"
   ]
  },
  {
   "cell_type": "code",
   "execution_count": 5,
   "metadata": {},
   "outputs": [
    {
     "data": {
      "text/html": [
       "<div>\n",
       "<style scoped>\n",
       "    .dataframe tbody tr th:only-of-type {\n",
       "        vertical-align: middle;\n",
       "    }\n",
       "\n",
       "    .dataframe tbody tr th {\n",
       "        vertical-align: top;\n",
       "    }\n",
       "\n",
       "    .dataframe thead th {\n",
       "        text-align: right;\n",
       "    }\n",
       "</style>\n",
       "<table border=\"1\" class=\"dataframe\">\n",
       "  <thead>\n",
       "    <tr style=\"text-align: right;\">\n",
       "      <th></th>\n",
       "      <th>rms</th>\n",
       "      <th>mav</th>\n",
       "      <th>zc</th>\n",
       "      <th>ssc</th>\n",
       "      <th>wavelength</th>\n",
       "      <th>participant</th>\n",
       "      <th>muscle_group</th>\n",
       "    </tr>\n",
       "  </thead>\n",
       "  <tbody>\n",
       "    <tr>\n",
       "      <th>0</th>\n",
       "      <td>504.424695</td>\n",
       "      <td>248.465357</td>\n",
       "      <td>26904</td>\n",
       "      <td>44941</td>\n",
       "      <td>1.582249e+07</td>\n",
       "      <td>subject 1</td>\n",
       "      <td>4</td>\n",
       "    </tr>\n",
       "    <tr>\n",
       "      <th>1</th>\n",
       "      <td>1290.132435</td>\n",
       "      <td>489.273669</td>\n",
       "      <td>25743</td>\n",
       "      <td>45470</td>\n",
       "      <td>2.881425e+07</td>\n",
       "      <td>subject 1</td>\n",
       "      <td>5</td>\n",
       "    </tr>\n",
       "    <tr>\n",
       "      <th>2</th>\n",
       "      <td>1402.743278</td>\n",
       "      <td>582.060388</td>\n",
       "      <td>24883</td>\n",
       "      <td>42973</td>\n",
       "      <td>4.215697e+07</td>\n",
       "      <td>subject 1</td>\n",
       "      <td>7</td>\n",
       "    </tr>\n",
       "    <tr>\n",
       "      <th>3</th>\n",
       "      <td>1139.196350</td>\n",
       "      <td>511.531727</td>\n",
       "      <td>25936</td>\n",
       "      <td>45916</td>\n",
       "      <td>4.689074e+07</td>\n",
       "      <td>subject 1</td>\n",
       "      <td>6</td>\n",
       "    </tr>\n",
       "    <tr>\n",
       "      <th>4</th>\n",
       "      <td>1285.079960</td>\n",
       "      <td>575.962833</td>\n",
       "      <td>32915</td>\n",
       "      <td>50139</td>\n",
       "      <td>6.202426e+07</td>\n",
       "      <td>subject 1</td>\n",
       "      <td>0</td>\n",
       "    </tr>\n",
       "  </tbody>\n",
       "</table>\n",
       "</div>"
      ],
      "text/plain": [
       "           rms         mav     zc    ssc    wavelength participant  \\\n",
       "0   504.424695  248.465357  26904  44941  1.582249e+07   subject 1   \n",
       "1  1290.132435  489.273669  25743  45470  2.881425e+07   subject 1   \n",
       "2  1402.743278  582.060388  24883  42973  4.215697e+07   subject 1   \n",
       "3  1139.196350  511.531727  25936  45916  4.689074e+07   subject 1   \n",
       "4  1285.079960  575.962833  32915  50139  6.202426e+07   subject 1   \n",
       "\n",
       "   muscle_group  \n",
       "0             4  \n",
       "1             5  \n",
       "2             7  \n",
       "3             6  \n",
       "4             0  "
      ]
     },
     "execution_count": 5,
     "metadata": {},
     "output_type": "execute_result"
    }
   ],
   "source": [
    "# Encode labels\n",
    "df['muscle_group'] = LabelEncoder().fit_transform(df['muscle_group'])\n",
    "df.head(5)"
   ]
  },
  {
   "cell_type": "code",
   "execution_count": 6,
   "metadata": {},
   "outputs": [],
   "source": [
    "# Split the data\n",
    "X_train, X_test, y_train, y_test = train_test_split(X, df['muscle_group'], test_size=0.2, random_state=42)"
   ]
  },
  {
   "cell_type": "code",
   "execution_count": 7,
   "metadata": {},
   "outputs": [
    {
     "name": "stdout",
     "output_type": "stream",
     "text": [
      "Random Forest Accuracy: 0.40540540540540543\n"
     ]
    }
   ],
   "source": [
    "# Train Random Forest\n",
    "rf_model = RandomForestClassifier()\n",
    "rf_model.fit(X_train, y_train)\n",
    "y_pred_rf = rf_model.predict(X_test)\n",
    "print(\"Random Forest Accuracy:\", accuracy_score(y_test, y_pred_rf))"
   ]
  },
  {
   "cell_type": "code",
   "execution_count": 8,
   "metadata": {},
   "outputs": [
    {
     "name": "stdout",
     "output_type": "stream",
     "text": [
      "SVM Accuracy: 0.2972972972972973\n"
     ]
    }
   ],
   "source": [
    "# Train SVM\n",
    "svm_model = SVC()\n",
    "svm_model.fit(X_train, y_train)\n",
    "y_pred_svm = svm_model.predict(X_test)\n",
    "print(\"SVM Accuracy:\", accuracy_score(y_test, y_pred_svm))\n"
   ]
  },
  {
   "cell_type": "code",
   "execution_count": 9,
   "metadata": {},
   "outputs": [],
   "source": [
    "cm_rf = confusion_matrix(y_test, y_pred_rf)\n",
    "cm_svm= confusion_matrix(y_test, y_pred_svm)"
   ]
  },
  {
   "cell_type": "markdown",
   "metadata": {},
   "source": [
    "# Confusion matrix"
   ]
  },
  {
   "cell_type": "code",
   "execution_count": 23,
   "metadata": {},
   "outputs": [
    {
     "data": {
      "image/png": "[encoded data removed]",
      "text/plain": [
       "<Figure size 1000x400 with 4 Axes>"
      ]
     },
     "metadata": {},
     "output_type": "display_data"
    }
   ],
   "source": [
    "fig, axes = plt.subplots(1, 2, figsize=(10, 4))\n",
    "\n",
    "# Plot Random Forest confusion matrix\n",
    "sns.heatmap(cm_rf, annot=True, fmt='d', cmap='Blues', ax=axes[0], \n",
    "            xticklabels=df['muscle_group'].unique(), yticklabels=df['muscle_group'].unique())\n",
    "axes[0].set_title('Random Forest Confusion Matrix')\n",
    "axes[0].set_xlabel('Predicted')\n",
    "axes[0].set_ylabel('True')\n",
    "\n",
    "# Plot SVM confusion matrix\n",
    "sns.heatmap(cm_svm, annot=True, fmt='d', cmap='Blues', ax=axes[1], \n",
    "            xticklabels=df['muscle_group'].unique(), yticklabels=df['muscle_group'].unique())\n",
    "axes[1].set_title('SVM Confusion Matrix')\n",
    "axes[1].set_xlabel('Predicted')\n",
    "axes[1].set_ylabel('True')\n",
    "\n",
    "plt.tight_layout()\n",
    "plt.show()"
   ]
  },
  {
   "cell_type": "code",
   "execution_count": null,
   "metadata": {},
   "outputs": [],
   "source": []
  }
 ],
 "metadata": {
  "kernelspec": {
   "display_name": "env",
   "language": "python",
   "name": "python3"
  },
  "language_info": {
   "codemirror_mode": {
    "name": "ipython",
    "version": 3
   },
   "file_extension": ".py",
   "mimetype": "text/x-python",
   "name": "python",
   "nbconvert_exporter": "python",
   "pygments_lexer": "ipython3",
   "version": "3.12.4"
  }
 },
 "nbformat": 4,
 "nbformat_minor": 2
}
